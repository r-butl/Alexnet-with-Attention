{
 "cells": [
  {
   "cell_type": "code",
   "execution_count": 35,
   "metadata": {},
   "outputs": [],
   "source": [
    "import pandas as pd\n",
    "import numpy as np\n",
    "import wfdb\n",
    "import ast\n",
    "import json"
   ]
  },
  {
   "cell_type": "code",
   "execution_count": 36,
   "metadata": {},
   "outputs": [],
   "source": [
    "def load_raw_data(df, sampling_rate, path):\n",
    "    if sampling_rate == 100:\n",
    "        data = [wfdb.rdsamp(path+f) for f in df.filename_lr]\n",
    "    else:\n",
    "        data = [wfdb.rdsamp(path+f) for f in df.filename_hr]\n",
    "    data = np.array([signal for signal, meta in data])\n",
    "    return data\n",
    "\n",
    "path = '/home/lrbutler/Desktop/ECGSignalClassifer/ptb-xl/'\n",
    "sampling_rate=100"
   ]
  },
  {
   "cell_type": "code",
   "execution_count": 37,
   "metadata": {},
   "outputs": [],
   "source": [
    "# load and convert annotation data\n",
    "files = pd.read_csv(path+'ptbxl_database.csv', index_col='ecg_id')\n",
    "files.scp_codes = files.scp_codes.apply(lambda x: ast.literal_eval(x))"
   ]
  },
  {
   "cell_type": "code",
   "execution_count": 38,
   "metadata": {},
   "outputs": [
    {
     "name": "stdout",
     "output_type": "stream",
     "text": [
      "19457\n"
     ]
    }
   ],
   "source": [
    "def less_than_100_check(row):\n",
    "    codes = row['scp_codes']\n",
    "    if 'NORM' in codes and codes['NORM'] < 100:\n",
    "        return 1\n",
    "    else:\n",
    "        return 0\n",
    "    \n",
    "removal_mask = files.apply(less_than_100_check, axis=1).values\n",
    "filtered_files = files[removal_mask == 0]\n",
    "print(len(filtered_files))"
   ]
  },
  {
   "cell_type": "code",
   "execution_count": 39,
   "metadata": {},
   "outputs": [
    {
     "name": "stdout",
     "output_type": "stream",
     "text": [
      "44\n"
     ]
    }
   ],
   "source": [
    "# Load scp_statements.csv for diagnostic aggregation\n",
    "agg_df = pd.read_csv(path+'scp_statements.csv', index_col=0)\n",
    "agg_df = agg_df[agg_df.diagnostic == 1]\n",
    "print(len(agg_df))"
   ]
  },
  {
   "cell_type": "code",
   "execution_count": 40,
   "metadata": {},
   "outputs": [],
   "source": [
    "def aggregate_diagnostic(y_dic):\n",
    "    tmp = []\n",
    "    for key in y_dic.keys():\n",
    "        if key in agg_df.index:\n",
    "            tmp.append(agg_df.loc[key].diagnostic_class)\n",
    "    return list(set(tmp))"
   ]
  },
  {
   "cell_type": "code",
   "execution_count": 41,
   "metadata": {},
   "outputs": [
    {
     "name": "stderr",
     "output_type": "stream",
     "text": [
      "/tmp/ipykernel_547119/316198874.py:2: SettingWithCopyWarning: \n",
      "A value is trying to be set on a copy of a slice from a DataFrame.\n",
      "Try using .loc[row_indexer,col_indexer] = value instead\n",
      "\n",
      "See the caveats in the documentation: https://pandas.pydata.org/pandas-docs/stable/user_guide/indexing.html#returning-a-view-versus-a-copy\n",
      "  filtered_files['diagnostic_superclass'] = filtered_files.scp_codes.apply(aggregate_diagnostic)\n"
     ]
    }
   ],
   "source": [
    "# Apply diagnostic superclass\n",
    "filtered_files['diagnostic_superclass'] = filtered_files.scp_codes.apply(aggregate_diagnostic)"
   ]
  },
  {
   "cell_type": "code",
   "execution_count": 42,
   "metadata": {},
   "outputs": [
    {
     "data": {
      "text/plain": [
       "ecg_id\n",
       "1        [NORM]\n",
       "3        [NORM]\n",
       "4        [NORM]\n",
       "5        [NORM]\n",
       "6        [NORM]\n",
       "          ...  \n",
       "21833    [STTC]\n",
       "21834    [NORM]\n",
       "21835    [STTC]\n",
       "21836    [NORM]\n",
       "21837    [NORM]\n",
       "Name: diagnostic_superclass, Length: 19457, dtype: object"
      ]
     },
     "execution_count": 42,
     "metadata": {},
     "output_type": "execute_result"
    }
   ],
   "source": [
    "filtered_files['diagnostic_superclass']"
   ]
  },
  {
   "cell_type": "code",
   "execution_count": 43,
   "metadata": {},
   "outputs": [],
   "source": [
    "diagnostic_superclass = filtered_files['diagnostic_superclass'].value_counts()\n",
    "classes = diagnostic_superclass.index\n",
    "counts = diagnostic_superclass.values\n",
    "frame = pd.DataFrame([co for co in zip(classes, counts)], columns=['class', 'counts'])\n"
   ]
  },
  {
   "cell_type": "code",
   "execution_count": 44,
   "metadata": {},
   "outputs": [
    {
     "name": "stdout",
     "output_type": "stream",
     "text": [
      "                  class  counts\n",
      "0                [NORM]    7004\n",
      "1                  [MI]    2532\n",
      "2                [STTC]    2400\n",
      "3                  [CD]    1708\n",
      "4              [MI, CD]    1297\n",
      "5           [HYP, STTC]     608\n",
      "6            [MI, STTC]     599\n",
      "7                 [HYP]     535\n",
      "8            [STTC, CD]     471\n",
      "10      [MI, HYP, STTC]     340\n",
      "11            [HYP, CD]     300\n",
      "12       [MI, STTC, CD]     223\n",
      "13            [MI, HYP]     183\n",
      "14          [STTC, HYP]     173\n",
      "16        [MI, HYP, CD]     117\n",
      "17  [CD, MI, HYP, STTC]      93\n",
      "18      [CD, HYP, STTC]      89\n",
      "19      [STTC, HYP, CD]      67\n",
      "20      [STTC, CD, HYP]      55\n",
      "21  [MI, STTC, HYP, CD]      48\n",
      "23      [MI, STTC, HYP]      21\n"
     ]
    }
   ],
   "source": [
    "# Convert the index to a list and drop rows based on a condition\n",
    "def convert_and_check(row):\n",
    "    classes = row['class']\n",
    "    count = row['counts']\n",
    "    if 'NORM' in classes and len(classes) > 1:\n",
    "        return 1    # Drop\n",
    "    elif len(classes) == 0:\n",
    "        return 1\n",
    "    elif count < 20:\n",
    "        return 1\n",
    "    else:\n",
    "        return 0\n",
    "\n",
    "drop_indices = frame.apply(convert_and_check, axis=1).values\n",
    "filtered_classes = frame[drop_indices == 0]\n",
    "print(filtered_classes)\n"
   ]
  },
  {
   "cell_type": "code",
   "execution_count": 45,
   "metadata": {},
   "outputs": [],
   "source": [
    "def all_values_match(x, y):\n",
    "    if len(x) != len(y):\n",
    "        return 0\n",
    "    else:\n",
    "        for value in x:\n",
    "            if value not in y:\n",
    "                return 0\n",
    "            \n",
    "    return 1"
   ]
  },
  {
   "cell_type": "code",
   "execution_count": 48,
   "metadata": {},
   "outputs": [],
   "source": [
    "def in_class_list(row):\n",
    "    try:\n",
    "        for allowable_classes in filtered_classes['class'].values:\n",
    "            if all_values_match(allowable_classes, row['diagnostic_superclass']):\n",
    "                return 1\n",
    "        \n",
    "        return 0\n",
    "    except:\n",
    "        print(row['diagnostic_superclass'])\n",
    "        print(filtered_classes['class'].values)\n",
    "\n",
    "keep_indices = filtered_files.apply(in_class_list, axis=1)\n",
    "filtered_files = filtered_files[keep_indices == 1]\n"
   ]
  },
  {
   "cell_type": "code",
   "execution_count": 49,
   "metadata": {},
   "outputs": [
    {
     "data": {
      "text/plain": [
       "18878"
      ]
     },
     "execution_count": 49,
     "metadata": {},
     "output_type": "execute_result"
    }
   ],
   "source": [
    "len(filtered_files)"
   ]
  },
  {
   "cell_type": "code",
   "execution_count": null,
   "metadata": {},
   "outputs": [],
   "source": []
  }
 ],
 "metadata": {
  "kernelspec": {
   "display_name": "final_project",
   "language": "python",
   "name": "python3"
  },
  "language_info": {
   "codemirror_mode": {
    "name": "ipython",
    "version": 3
   },
   "file_extension": ".py",
   "mimetype": "text/x-python",
   "name": "python",
   "nbconvert_exporter": "python",
   "pygments_lexer": "ipython3",
   "version": "3.10.15"
  }
 },
 "nbformat": 4,
 "nbformat_minor": 2
}
